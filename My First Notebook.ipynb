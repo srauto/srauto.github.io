{
    "cells": [
        {
            "metadata": {},
            "cell_type": "markdown",
            "source": "\n# My Jupyter Notebook on IBM Data Science Experience"
        },
        {
            "metadata": {},
            "cell_type": "markdown",
            "source": "**Smrutirekha Rauto**   \nTechnical Lead \n  \n"
        },
        {
            "metadata": {},
            "cell_type": "markdown",
            "source": "_I am interested in data science because_   \n_I am from Maths and Stats back Ground_"
        },
        {
            "metadata": {},
            "cell_type": "markdown",
            "source": "### Calculate the sum 1 plus 1"
        },
        {
            "metadata": {},
            "cell_type": "code",
            "source": "1+1",
            "execution_count": 4,
            "outputs": [
                {
                    "output_type": "execute_result",
                    "execution_count": 4,
                    "data": {
                        "text/plain": "2"
                    },
                    "metadata": {}
                }
            ]
        },
        {
            "metadata": {},
            "cell_type": "markdown",
            "source": "1. First item\n1. Second item\n1. Third item\n1. Fourth item\n\n> I am a data scientist.\n>\n>> I should study more.\n\n*   This is the first list item.\n*   Here's the second list item.\n"
        }
    ],
    "metadata": {
        "kernelspec": {
            "name": "python3",
            "display_name": "Python 3.6",
            "language": "python"
        },
        "language_info": {
            "name": "python",
            "version": "3.6.8",
            "mimetype": "text/x-python",
            "codemirror_mode": {
                "name": "ipython",
                "version": 3
            },
            "pygments_lexer": "ipython3",
            "nbconvert_exporter": "python",
            "file_extension": ".py"
        }
    },
    "nbformat": 4,
    "nbformat_minor": 1
}